{
  "nbformat": 4,
  "nbformat_minor": 0,
  "metadata": {
    "colab": {
      "provenance": [],
      "collapsed_sections": [],
      "authorship_tag": "ABX9TyOVL3pSoA4p244uTo+PYyD6",
      "include_colab_link": true
    },
    "kernelspec": {
      "name": "python3",
      "display_name": "Python 3"
    },
    "language_info": {
      "name": "python"
    }
  },
  "cells": [
    {
      "cell_type": "markdown",
      "metadata": {
        "id": "view-in-github",
        "colab_type": "text"
      },
      "source": [
        "<a href=\"https://colab.research.google.com/github/OlaOye23/Mauctree/blob/main/Auctree_data_exploration.ipynb\" target=\"_parent\"><img src=\"https://colab.research.google.com/assets/colab-badge.svg\" alt=\"Open In Colab\"/></a>"
      ]
    },
    {
      "cell_type": "markdown",
      "source": [
        "#**An analysis of scraped auctree.com data using only data with starting bids published**\n"
      ],
      "metadata": {
        "id": "GemCyGPEoq2s"
      }
    },
    {
      "cell_type": "code",
      "execution_count": null,
      "metadata": {
        "id": "zwtM3Rq_rnTB"
      },
      "outputs": [],
      "source": [
        "#read the data from flatfile into workspace\n",
        "import pandas as pd\n",
        "import matplotlib.pyplot as plt\n",
        "plt.rcParams['figure.figsize'] = 16, 8\n",
        "\n",
        "df = pd.read_csv('/content/auctree_big.csv')"
      ]
    },
    {
      "cell_type": "markdown",
      "source": [
        "#**Filter for entries with starting bids**"
      ],
      "metadata": {
        "id": "ReJ1D1I8o2Se"
      }
    },
    {
      "cell_type": "code",
      "source": [
        "#filter for data with starting bids\n",
        "df_= df[df['start_bid'] > 0]\n",
        "plt.hist(df_['start_bid'])\n"
      ],
      "metadata": {
        "colab": {
          "base_uri": "https://localhost:8080/",
          "height": 554
        },
        "id": "xiADosk4Biyj",
        "outputId": "aed2ea29-cf53-4ae4-e639-dbceb90c00b6"
      },
      "execution_count": null,
      "outputs": [
        {
          "output_type": "execute_result",
          "data": {
            "text/plain": [
              "(array([434., 228.,  33.,  17.,   2.,   0.,   2.,   1.,   0.,   2.]),\n",
              " array([  1.192 ,  88.7728, 176.3536, 263.9344, 351.5152, 439.096 ,\n",
              "        526.6768, 614.2576, 701.8384, 789.4192, 877.    ]),\n",
              " <a list of 10 Patch objects>)"
            ]
          },
          "metadata": {},
          "execution_count": 116
        },
        {
          "output_type": "display_data",
          "data": {
            "text/plain": [
              "<Figure size 1152x576 with 1 Axes>"
            ],
            "image/png": "[encoded data removed]"
          },
          "metadata": {
            "needs_background": "light"
          }
        }
      ]
    },
    {
      "cell_type": "code",
      "source": [
        "#view the filtered table\n",
        "print((len(df_)/len(df))*100)#percentage of properties with start bids\n",
        "df_"
      ],
      "metadata": {
        "colab": {
          "base_uri": "https://localhost:8080/",
          "height": 780
        },
        "id": "buWxN2IXBuCE",
        "outputId": "9eaf9b0e-3bd8-422d-d65a-2b3577e64677"
      },
      "execution_count": null,
      "outputs": [
        {
          "output_type": "execute_result",
          "data": {
            "text/plain": [
              "      Unnamed: 0  number                  name                  region  \\\n",
              "0              0    10.0  Avenida el Puente 56  Santa Cruz de la Palma   \n",
              "1              1    11.0  Avenida el Puente 56  Santa Cruz de la Palma   \n",
              "3              3    13.0  Avenida el Puente 56  Santa Cruz de la Palma   \n",
              "5              5    15.0  Avenida el Puente 56  Santa Cruz de la Palma   \n",
              "7              7    17.0  Avenida el Puente 56  Santa Cruz de la Palma   \n",
              "...          ...     ...                   ...                     ...   \n",
              "1256        1256  1266.0       Cl Rin 14 N2-18                Calafell   \n",
              "1257        1257  1267.0      Av Reina Sofia 4                 Tomares   \n",
              "1258        1258  1268.0     Cl Severo Ochoa 5       Humanes De Madrid   \n",
              "1259        1259  1269.0       Cl Rin 14 N2-18                Calafell   \n",
              "1260        1260  1270.0     Cl Severo Ochoa 5       Humanes De Madrid   \n",
              "\n",
              "                        city     prop_type           time_left  \\\n",
              "0     Santa Cruz de Tenerife  1 x Vivienda  16/07/2021 (18:00)   \n",
              "1     Santa Cruz de Tenerife  1 x Vivienda  16/07/2021 (18:00)   \n",
              "3     Santa Cruz de Tenerife  1 x Vivienda  16/07/2021 (10:00)   \n",
              "5     Santa Cruz de Tenerife  1 x Vivienda  16/07/2021 (18:00)   \n",
              "7     Santa Cruz de Tenerife  1 x Vivienda  06/09/2021 (18:00)   \n",
              "...                      ...           ...                 ...   \n",
              "1256               Tarragona     1 x Otros  28/09/2022 (18:00)   \n",
              "1257                 Sevilla  1 x Vivienda  28/09/2022 (18:00)   \n",
              "1258                  Madrid  1 x Vivienda  27/07/2022 (18:00)   \n",
              "1259               Tarragona  1 x Vivienda  28/09/2022 (18:00)   \n",
              "1260                  Madrid  1 x Vivienda  28/09/2022 (18:00)   \n",
              "\n",
              "              close_date  start_bid  deposit         sale_type  \\\n",
              "0     16/07/2021 (18:00)    110.000      0.2  Cesion de remate   \n",
              "1     16/07/2021 (18:00)    175.000      0.2  Cesion de remate   \n",
              "3     16/07/2021 (10:00)    160.000      0.2  Cesion de remate   \n",
              "5     16/07/2021 (18:00)    122.000      0.2  Cesion de remate   \n",
              "7     06/09/2021 (18:00)    105.651      0.2  Cesion de remate   \n",
              "...                  ...        ...      ...               ...   \n",
              "1256  28/09/2022 (18:00)     69.793      0.2  Cesion de remate   \n",
              "1257  28/09/2022 (18:00)    175.236      0.2  Cesion de remate   \n",
              "1258  27/07/2022 (18:00)    101.109      0.2  Cesion de remate   \n",
              "1259  28/09/2022 (18:00)     69.793      0.2  Cesion de remate   \n",
              "1260  28/09/2022 (18:00)    101.109      0.2  Cesion de remate   \n",
              "\n",
              "                                                  image  buy_now  \n",
              "0     https://project-radium-files.s3.eu-west-2.amaz...      NaN  \n",
              "1     https://project-radium-files.s3.eu-west-2.amaz...      NaN  \n",
              "3     https://project-radium-files.s3.eu-west-2.amaz...      NaN  \n",
              "5     https://project-radium-files.s3.eu-west-2.amaz...      NaN  \n",
              "7     https://project-radium-files.s3.eu-west-2.amaz...  121.498  \n",
              "...                                                 ...      ...  \n",
              "1256  https://project-radium-files.s3.eu-west-2.amaz...      NaN  \n",
              "1257                                                NaN      NaN  \n",
              "1258  https://project-radium-files.s3.eu-west-2.amaz...      NaN  \n",
              "1259                                                NaN      NaN  \n",
              "1260                                                NaN      NaN  \n",
              "\n",
              "[719 rows x 13 columns]"
            ],
            "text/html": [
              "\n",
              "  <div id=\"df-e06841aa-deff-4275-a8ee-97b99ecec653\">\n",
              "    <div class=\"colab-df-container\">\n",
              "      <div>\n",
              "<style scoped>\n",
              "    .dataframe tbody tr th:only-of-type {\n",
              "        vertical-align: middle;\n",
              "    }\n",
              "\n",
              "    .dataframe tbody tr th {\n",
              "        vertical-align: top;\n",
              "    }\n",
              "\n",
              "    .dataframe thead th {\n",
              "        text-align: right;\n",
              "    }\n",
              "</style>\n",
              "<table border=\"1\" class=\"dataframe\">\n",
              "  <thead>\n",
              "    <tr style=\"text-align: right;\">\n",
              "      <th></th>\n",
              "      <th>Unnamed: 0</th>\n",
              "      <th>number</th>\n",
              "      <th>name</th>\n",
              "      <th>region</th>\n",
              "      <th>city</th>\n",
              "      <th>prop_type</th>\n",
              "      <th>time_left</th>\n",
              "      <th>close_date</th>\n",
              "      <th>start_bid</th>\n",
              "      <th>deposit</th>\n",
              "      <th>sale_type</th>\n",
              "      <th>image</th>\n",
              "      <th>buy_now</th>\n",
              "    </tr>\n",
              "  </thead>\n",
              "  <tbody>\n",
              "    <tr>\n",
              "      <th>0</th>\n",
              "      <td>0</td>\n",
              "      <td>10.0</td>\n",
              "      <td>Avenida el Puente 56</td>\n",
              "      <td>Santa Cruz de la Palma</td>\n",
              "      <td>Santa Cruz de Tenerife</td>\n",
              "      <td>1 x Vivienda</td>\n",
              "      <td>16/07/2021 (18:00)</td>\n",
              "      <td>16/07/2021 (18:00)</td>\n",
              "      <td>110.000</td>\n",
              "      <td>0.2</td>\n",
              "      <td>Cesion de remate</td>\n",
              "      <td>https://project-radium-files.s3.eu-west-2.amaz...</td>\n",
              "      <td>NaN</td>\n",
              "    </tr>\n",
              "    <tr>\n",
              "      <th>1</th>\n",
              "      <td>1</td>\n",
              "      <td>11.0</td>\n",
              "      <td>Avenida el Puente 56</td>\n",
              "      <td>Santa Cruz de la Palma</td>\n",
              "      <td>Santa Cruz de Tenerife</td>\n",
              "      <td>1 x Vivienda</td>\n",
              "      <td>16/07/2021 (18:00)</td>\n",
              "      <td>16/07/2021 (18:00)</td>\n",
              "      <td>175.000</td>\n",
              "      <td>0.2</td>\n",
              "      <td>Cesion de remate</td>\n",
              "      <td>https://project-radium-files.s3.eu-west-2.amaz...</td>\n",
              "      <td>NaN</td>\n",
              "    </tr>\n",
              "    <tr>\n",
              "      <th>3</th>\n",
              "      <td>3</td>\n",
              "      <td>13.0</td>\n",
              "      <td>Avenida el Puente 56</td>\n",
              "      <td>Santa Cruz de la Palma</td>\n",
              "      <td>Santa Cruz de Tenerife</td>\n",
              "      <td>1 x Vivienda</td>\n",
              "      <td>16/07/2021 (10:00)</td>\n",
              "      <td>16/07/2021 (10:00)</td>\n",
              "      <td>160.000</td>\n",
              "      <td>0.2</td>\n",
              "      <td>Cesion de remate</td>\n",
              "      <td>https://project-radium-files.s3.eu-west-2.amaz...</td>\n",
              "      <td>NaN</td>\n",
              "    </tr>\n",
              "    <tr>\n",
              "      <th>5</th>\n",
              "      <td>5</td>\n",
              "      <td>15.0</td>\n",
              "      <td>Avenida el Puente 56</td>\n",
              "      <td>Santa Cruz de la Palma</td>\n",
              "      <td>Santa Cruz de Tenerife</td>\n",
              "      <td>1 x Vivienda</td>\n",
              "      <td>16/07/2021 (18:00)</td>\n",
              "      <td>16/07/2021 (18:00)</td>\n",
              "      <td>122.000</td>\n",
              "      <td>0.2</td>\n",
              "      <td>Cesion de remate</td>\n",
              "      <td>https://project-radium-files.s3.eu-west-2.amaz...</td>\n",
              "      <td>NaN</td>\n",
              "    </tr>\n",
              "    <tr>\n",
              "      <th>7</th>\n",
              "      <td>7</td>\n",
              "      <td>17.0</td>\n",
              "      <td>Avenida el Puente 56</td>\n",
              "      <td>Santa Cruz de la Palma</td>\n",
              "      <td>Santa Cruz de Tenerife</td>\n",
              "      <td>1 x Vivienda</td>\n",
              "      <td>06/09/2021 (18:00)</td>\n",
              "      <td>06/09/2021 (18:00)</td>\n",
              "      <td>105.651</td>\n",
              "      <td>0.2</td>\n",
              "      <td>Cesion de remate</td>\n",
              "      <td>https://project-radium-files.s3.eu-west-2.amaz...</td>\n",
              "      <td>121.498</td>\n",
              "    </tr>\n",
              "    <tr>\n",
              "      <th>...</th>\n",
              "      <td>...</td>\n",
              "      <td>...</td>\n",
              "      <td>...</td>\n",
              "      <td>...</td>\n",
              "      <td>...</td>\n",
              "      <td>...</td>\n",
              "      <td>...</td>\n",
              "      <td>...</td>\n",
              "      <td>...</td>\n",
              "      <td>...</td>\n",
              "      <td>...</td>\n",
              "      <td>...</td>\n",
              "      <td>...</td>\n",
              "    </tr>\n",
              "    <tr>\n",
              "      <th>1256</th>\n",
              "      <td>1256</td>\n",
              "      <td>1266.0</td>\n",
              "      <td>Cl Rin 14 N2-18</td>\n",
              "      <td>Calafell</td>\n",
              "      <td>Tarragona</td>\n",
              "      <td>1 x Otros</td>\n",
              "      <td>28/09/2022 (18:00)</td>\n",
              "      <td>28/09/2022 (18:00)</td>\n",
              "      <td>69.793</td>\n",
              "      <td>0.2</td>\n",
              "      <td>Cesion de remate</td>\n",
              "      <td>https://project-radium-files.s3.eu-west-2.amaz...</td>\n",
              "      <td>NaN</td>\n",
              "    </tr>\n",
              "    <tr>\n",
              "      <th>1257</th>\n",
              "      <td>1257</td>\n",
              "      <td>1267.0</td>\n",
              "      <td>Av Reina Sofia 4</td>\n",
              "      <td>Tomares</td>\n",
              "      <td>Sevilla</td>\n",
              "      <td>1 x Vivienda</td>\n",
              "      <td>28/09/2022 (18:00)</td>\n",
              "      <td>28/09/2022 (18:00)</td>\n",
              "      <td>175.236</td>\n",
              "      <td>0.2</td>\n",
              "      <td>Cesion de remate</td>\n",
              "      <td>NaN</td>\n",
              "      <td>NaN</td>\n",
              "    </tr>\n",
              "    <tr>\n",
              "      <th>1258</th>\n",
              "      <td>1258</td>\n",
              "      <td>1268.0</td>\n",
              "      <td>Cl Severo Ochoa 5</td>\n",
              "      <td>Humanes De Madrid</td>\n",
              "      <td>Madrid</td>\n",
              "      <td>1 x Vivienda</td>\n",
              "      <td>27/07/2022 (18:00)</td>\n",
              "      <td>27/07/2022 (18:00)</td>\n",
              "      <td>101.109</td>\n",
              "      <td>0.2</td>\n",
              "      <td>Cesion de remate</td>\n",
              "      <td>https://project-radium-files.s3.eu-west-2.amaz...</td>\n",
              "      <td>NaN</td>\n",
              "    </tr>\n",
              "    <tr>\n",
              "      <th>1259</th>\n",
              "      <td>1259</td>\n",
              "      <td>1269.0</td>\n",
              "      <td>Cl Rin 14 N2-18</td>\n",
              "      <td>Calafell</td>\n",
              "      <td>Tarragona</td>\n",
              "      <td>1 x Vivienda</td>\n",
              "      <td>28/09/2022 (18:00)</td>\n",
              "      <td>28/09/2022 (18:00)</td>\n",
              "      <td>69.793</td>\n",
              "      <td>0.2</td>\n",
              "      <td>Cesion de remate</td>\n",
              "      <td>NaN</td>\n",
              "      <td>NaN</td>\n",
              "    </tr>\n",
              "    <tr>\n",
              "      <th>1260</th>\n",
              "      <td>1260</td>\n",
              "      <td>1270.0</td>\n",
              "      <td>Cl Severo Ochoa 5</td>\n",
              "      <td>Humanes De Madrid</td>\n",
              "      <td>Madrid</td>\n",
              "      <td>1 x Vivienda</td>\n",
              "      <td>28/09/2022 (18:00)</td>\n",
              "      <td>28/09/2022 (18:00)</td>\n",
              "      <td>101.109</td>\n",
              "      <td>0.2</td>\n",
              "      <td>Cesion de remate</td>\n",
              "      <td>NaN</td>\n",
              "      <td>NaN</td>\n",
              "    </tr>\n",
              "  </tbody>\n",
              "</table>\n",
              "<p>719 rows × 13 columns</p>\n",
              "</div>\n",
              "      <button class=\"colab-df-convert\" onclick=\"convertToInteractive('df-e06841aa-deff-4275-a8ee-97b99ecec653')\"\n",
              "              title=\"Convert this dataframe to an interactive table.\"\n",
              "              style=\"display:none;\">\n",
              "        \n",
              "  <svg xmlns=\"http://www.w3.org/2000/svg\" height=\"24px\"viewBox=\"0 0 24 24\"\n",
              "       width=\"24px\">\n",
              "    <path d=\"M0 0h24v24H0V0z\" fill=\"none\"/>\n",
              "    <path d=\"M18.56 5.44l.94 2.06.94-2.06 2.06-.94-2.06-.94-.94-2.06-.94 2.06-2.06.94zm-11 1L8.5 8.5l.94-2.06 2.06-.94-2.06-.94L8.5 2.5l-.94 2.06-2.06.94zm10 10l.94 2.06.94-2.06 2.06-.94-2.06-.94-.94-2.06-.94 2.06-2.06.94z\"/><path d=\"M17.41 7.96l-1.37-1.37c-.4-.4-.92-.59-1.43-.59-.52 0-1.04.2-1.43.59L10.3 9.45l-7.72 7.72c-.78.78-.78 2.05 0 2.83L4 21.41c.39.39.9.59 1.41.59.51 0 1.02-.2 1.41-.59l7.78-7.78 2.81-2.81c.8-.78.8-2.07 0-2.86zM5.41 20L4 18.59l7.72-7.72 1.47 1.35L5.41 20z\"/>\n",
              "  </svg>\n",
              "      </button>\n",
              "      \n",
              "  <style>\n",
              "    .colab-df-container {\n",
              "      display:flex;\n",
              "      flex-wrap:wrap;\n",
              "      gap: 12px;\n",
              "    }\n",
              "\n",
              "    .colab-df-convert {\n",
              "      background-color: #E8F0FE;\n",
              "      border: none;\n",
              "      border-radius: 50%;\n",
              "      cursor: pointer;\n",
              "      display: none;\n",
              "      fill: #1967D2;\n",
              "      height: 32px;\n",
              "      padding: 0 0 0 0;\n",
              "      width: 32px;\n",
              "    }\n",
              "\n",
              "    .colab-df-convert:hover {\n",
              "      background-color: #E2EBFA;\n",
              "      box-shadow: 0px 1px 2px rgba(60, 64, 67, 0.3), 0px 1px 3px 1px rgba(60, 64, 67, 0.15);\n",
              "      fill: #174EA6;\n",
              "    }\n",
              "\n",
              "    [theme=dark] .colab-df-convert {\n",
              "      background-color: #3B4455;\n",
              "      fill: #D2E3FC;\n",
              "    }\n",
              "\n",
              "    [theme=dark] .colab-df-convert:hover {\n",
              "      background-color: #434B5C;\n",
              "      box-shadow: 0px 1px 3px 1px rgba(0, 0, 0, 0.15);\n",
              "      filter: drop-shadow(0px 1px 2px rgba(0, 0, 0, 0.3));\n",
              "      fill: #FFFFFF;\n",
              "    }\n",
              "  </style>\n",
              "\n",
              "      <script>\n",
              "        const buttonEl =\n",
              "          document.querySelector('#df-e06841aa-deff-4275-a8ee-97b99ecec653 button.colab-df-convert');\n",
              "        buttonEl.style.display =\n",
              "          google.colab.kernel.accessAllowed ? 'block' : 'none';\n",
              "\n",
              "        async function convertToInteractive(key) {\n",
              "          const element = document.querySelector('#df-e06841aa-deff-4275-a8ee-97b99ecec653');\n",
              "          const dataTable =\n",
              "            await google.colab.kernel.invokeFunction('convertToInteractive',\n",
              "                                                     [key], {});\n",
              "          if (!dataTable) return;\n",
              "\n",
              "          const docLinkHtml = 'Like what you see? Visit the ' +\n",
              "            '<a target=\"_blank\" href=https://colab.research.google.com/notebooks/data_table.ipynb>data table notebook</a>'\n",
              "            + ' to learn more about interactive tables.';\n",
              "          element.innerHTML = '';\n",
              "          dataTable['output_type'] = 'display_data';\n",
              "          await google.colab.output.renderOutput(dataTable, element);\n",
              "          const docLink = document.createElement('div');\n",
              "          docLink.innerHTML = docLinkHtml;\n",
              "          element.appendChild(docLink);\n",
              "        }\n",
              "      </script>\n",
              "    </div>\n",
              "  </div>\n",
              "  "
            ]
          },
          "metadata": {},
          "execution_count": 117
        }
      ]
    },
    {
      "cell_type": "code",
      "source": [
        "#preview the bids\n",
        "bids = df_['start_bid']\n",
        "print(bids.sort_values().head())"
      ],
      "metadata": {
        "colab": {
          "base_uri": "https://localhost:8080/"
        },
        "id": "CkwGFVCeCLPD",
        "outputId": "690e7546-e1c1-420a-9760-3a9272d2da10"
      },
      "execution_count": null,
      "outputs": [
        {
          "output_type": "stream",
          "name": "stdout",
          "text": [
            "1193    1.192\n",
            "1054    2.000\n",
            "729     2.919\n",
            "668     3.254\n",
            "950     3.579\n",
            "Name: start_bid, dtype: float64\n"
          ]
        }
      ]
    },
    {
      "cell_type": "code",
      "source": [
        "#histogram of bids distribution\n",
        "plt.hist(bids, bins = 100);"
      ],
      "metadata": {
        "colab": {
          "base_uri": "https://localhost:8080/",
          "height": 483
        },
        "id": "b18ttA5FCewU",
        "outputId": "d582e53c-f7c3-4e9b-fcbd-4d7a3ebc0a53"
      },
      "execution_count": null,
      "outputs": [
        {
          "output_type": "display_data",
          "data": {
            "text/plain": [
              "<Figure size 1152x576 with 1 Axes>"
            ],
            "image/png": "[encoded data removed]"
          },
          "metadata": {
            "needs_background": "light"
          }
        }
      ]
    },
    {
      "cell_type": "markdown",
      "source": [
        "#**Comparison of start bids and buy it now price**\n"
      ],
      "metadata": {
        "id": "2vtQGOXzpEZo"
      }
    },
    {
      "cell_type": "code",
      "source": [
        "#compare start bids to buy it now prices for properties with buy it now options\n",
        "df_bn_bids = df_['start_bid'][df['buy_now']>0]\n",
        "df_bn_price = df_['buy_now'][df['buy_now']>0]\n",
        "plt.scatter(df_bn_bids, df_bn_price)\n",
        "plt.grid()\n",
        "plt.xlabel('start bids')\n",
        "plt.ylabel('buy_now')"
      ],
      "metadata": {
        "colab": {
          "base_uri": "https://localhost:8080/",
          "height": 515
        },
        "id": "SyQ_YAxMDFeI",
        "outputId": "b9a375a4-4d74-4b56-d435-acaf8225bb9e"
      },
      "execution_count": null,
      "outputs": [
        {
          "output_type": "execute_result",
          "data": {
            "text/plain": [
              "Text(0, 0.5, 'buy_now')"
            ]
          },
          "metadata": {},
          "execution_count": 120
        },
        {
          "output_type": "display_data",
          "data": {
            "text/plain": [
              "<Figure size 1152x576 with 1 Axes>"
            ],
            "image/png": "[encoded data removed]"
          },
          "metadata": {
            "needs_background": "light"
          }
        }
      ]
    },
    {
      "cell_type": "code",
      "source": [
        "#use regression to get coefficient \n",
        "import numpy as np\n",
        "import statsmodels.api as sm\n",
        "\n",
        "# Fit and summarize OLS model\n",
        "mod = sm.OLS(df_bn_price, df_bn_bids)\n",
        "res = mod.fit()\n",
        "print(res.summary())"
      ],
      "metadata": {
        "colab": {
          "base_uri": "https://localhost:8080/"
        },
        "id": "xAnmhvUGJCCr",
        "outputId": "519b9006-4166-4b60-cc41-0177d1f7488e"
      },
      "execution_count": null,
      "outputs": [
        {
          "output_type": "stream",
          "name": "stdout",
          "text": [
            "                                 OLS Regression Results                                \n",
            "=======================================================================================\n",
            "Dep. Variable:                buy_now   R-squared (uncentered):                   0.987\n",
            "Model:                            OLS   Adj. R-squared (uncentered):              0.987\n",
            "Method:                 Least Squares   F-statistic:                          1.811e+04\n",
            "Date:                Sun, 18 Sep 2022   Prob (F-statistic):                   3.51e-222\n",
            "Time:                        16:27:08   Log-Likelihood:                         -998.14\n",
            "No. Observations:                 233   AIC:                                      1998.\n",
            "Df Residuals:                     232   BIC:                                      2002.\n",
            "Df Model:                           1                                                  \n",
            "Covariance Type:            nonrobust                                                  \n",
            "==============================================================================\n",
            "                 coef    std err          t      P>|t|      [0.025      0.975]\n",
            "------------------------------------------------------------------------------\n",
            "start_bid      1.0692      0.008    134.591      0.000       1.054       1.085\n",
            "==============================================================================\n",
            "Omnibus:                       96.361   Durbin-Watson:                   1.701\n",
            "Prob(Omnibus):                  0.000   Jarque-Bera (JB):             6079.909\n",
            "Skew:                           0.648   Prob(JB):                         0.00\n",
            "Kurtosis:                      27.992   Cond. No.                         1.00\n",
            "==============================================================================\n",
            "\n",
            "Notes:\n",
            "[1] R² is computed without centering (uncentered) since the model does not contain a constant.\n",
            "[2] Standard Errors assume that the covariance matrix of the errors is correctly specified.\n"
          ]
        }
      ]
    },
    {
      "cell_type": "markdown",
      "source": [
        "#**Analysis of individual data fields**"
      ],
      "metadata": {
        "id": "4PSsX1gzpZUa"
      }
    },
    {
      "cell_type": "code",
      "source": [
        "#display count of field values per field\n",
        "df_.count()"
      ],
      "metadata": {
        "colab": {
          "base_uri": "https://localhost:8080/"
        },
        "id": "OISVL1aLOk0_",
        "outputId": "fb4e3539-2d41-4193-f27c-f559a29d2b0b"
      },
      "execution_count": null,
      "outputs": [
        {
          "output_type": "execute_result",
          "data": {
            "text/plain": [
              "Unnamed: 0    719\n",
              "number        719\n",
              "name          712\n",
              "region        713\n",
              "city          717\n",
              "prop_type     719\n",
              "time_left     719\n",
              "close_date    719\n",
              "start_bid     719\n",
              "deposit       719\n",
              "sale_type     719\n",
              "image         550\n",
              "buy_now       233\n",
              "dtype: int64"
            ]
          },
          "metadata": {},
          "execution_count": 125
        }
      ]
    },
    {
      "cell_type": "code",
      "source": [
        "#display number of unique values for select fields\n",
        "print('no. of property types: ',len(df_['prop_type'].unique()))\n",
        "print('no. of sales types: ',len(df_['sale_type'].unique()))\n",
        "print('no. of cities: ',len(df_['region'].unique()))#I mixed up city and region in inital scraping\n",
        "print('no. of regions:',len(df_['city'].unique()))#I mixed up city and region in inital scraping"
      ],
      "metadata": {
        "colab": {
          "base_uri": "https://localhost:8080/"
        },
        "id": "ZZQl7KLFKAGX",
        "outputId": "e53c1e11-23a9-44fa-fa9a-193d359d5250"
      },
      "execution_count": null,
      "outputs": [
        {
          "output_type": "stream",
          "name": "stdout",
          "text": [
            "no. of property types:  41\n",
            "no. of sales types:  2\n",
            "no. of cities:  333\n",
            "no. of regions: 45\n"
          ]
        }
      ]
    },
    {
      "cell_type": "code",
      "source": [
        "#display count of properties per region --* city and region were mixed up in webscrape\n",
        "df_r = df_['city']\n",
        "df_ur = df_['city'].unique()\n",
        "for region in df_ur:\n",
        "  print(region, len(df_r[df_r == region]))"
      ],
      "metadata": {
        "colab": {
          "base_uri": "https://localhost:8080/"
        },
        "id": "RgOuReQRKymy",
        "outputId": "6c2db5d8-884a-4f74-968c-bc041bbacc20"
      },
      "execution_count": null,
      "outputs": [
        {
          "output_type": "stream",
          "name": "stdout",
          "text": [
            "Santa Cruz de Tenerife 37\n",
            "Ciudad Real 25\n",
            "Lugo 1\n",
            "Madrid 105\n",
            "Tarragona 36\n",
            "Cadiz 20\n",
            "A Coruna 7\n",
            "Alava 3\n",
            "Prop2_City, Alava, Alicante 2\n",
            "TorrejÃ³n de Ardoz, Madrid 1\n",
            "Almeria 11\n",
            "Sevilla 39\n",
            "Baleares 10\n",
            "Las Palmas 19\n",
            "Barcelona 51\n",
            "La Rioja 4\n",
            "Murcia 62\n",
            "Valencia 30\n",
            "Alicante 58\n",
            "Segovia 2\n",
            "Girona 29\n",
            "Castellon 10\n",
            "Guadalajara 4\n",
            "Burgos 2\n",
            "Malaga 8\n",
            "PORRERES, Baleares 1\n",
            "Granada 7\n",
            "Huelva 34\n",
            "Auction 21\n",
            "Toledo 32\n",
            "Valladolid 1\n",
            "Avila 2\n",
            "Lerida 9\n",
            "Zaragoza 9\n",
            "Fuenlabrada, Madrid 1\n",
            "Albacete 3\n",
            "Cordoba 5\n",
            "Puiggros 1\n",
            "Fulleda 1\n",
            "Ourense 5\n",
            "MEDINA-SIDONIA, Cadiz 3\n",
            "nan 0\n",
            "Navarra 1\n",
            "Jaen 4\n",
            "Pontevedra 1\n"
          ]
        }
      ]
    },
    {
      "cell_type": "code",
      "source": [
        "#display count of properties per sale type\n",
        "df_r = df_['sale_type']\n",
        "df_ur = df_['sale_type'].unique()\n",
        "for s_type in df_ur:\n",
        "  print(s_type, len(df_r[df_r == s_type]))"
      ],
      "metadata": {
        "colab": {
          "base_uri": "https://localhost:8080/"
        },
        "id": "aMRoX3PiPm52",
        "outputId": "81d794a9-d636-46a0-8528-5ec3c598ebf1"
      },
      "execution_count": null,
      "outputs": [
        {
          "output_type": "stream",
          "name": "stdout",
          "text": [
            "Cesion de remate 717\n",
            "Cesion de credito 2\n"
          ]
        }
      ]
    },
    {
      "cell_type": "code",
      "source": [
        "#display count of propettis per property type\n",
        "df_r = df_['prop_type']\n",
        "df_ur = df_['prop_type'].unique()\n",
        "for p_type in df_ur:\n",
        "  print(p_type,': ', len(df_r[df_r == p_type]))"
      ],
      "metadata": {
        "colab": {
          "base_uri": "https://localhost:8080/"
        },
        "id": "yKR6GLeVOUqa",
        "outputId": "eba5f614-2361-42e8-fbdc-56399d207730"
      },
      "execution_count": null,
      "outputs": [
        {
          "output_type": "stream",
          "name": "stdout",
          "text": [
            "1 x Vivienda :  505\n",
            "1 x Aparcamiento :  53\n",
            "Valdemoro, Lugo :  1\n",
            "1 x Otros :  18\n",
            "1 x Comercio, 2 x Otros :  1\n",
            "1 x Oficina :  8\n",
            "14 x Aparcamiento, 5 x Vivienda :  1\n",
            "10 x Almacen, 10 x Aparcamiento, 10 x Vivienda :  1\n",
            "1 x Agrario :  5\n",
            "2 x Vivienda :  8\n",
            "1 x Agrario, 1 x Vivienda :  2\n",
            "1 x Comercio :  18\n",
            "1 x Almacen, 2 x Aparcamiento, 2 x Vivienda :  1\n",
            "Madrid, Madrid :  1\n",
            "FUENLABRADA, Madrid :  1\n",
            "1 x Almacen :  25\n",
            "7 x Vivienda :  1\n",
            "1 x Almacen, 1 x Aparcamiento, 1 x Vivienda :  1\n",
            ", Alicante :  1\n",
            "1 x Suelo :  22\n",
            "2 x Comercio, 1 x Vivienda :  1\n",
            "Auction :  21\n",
            "1 x Hotelero :  1\n",
            "1 x Industrial :  1\n",
            "4 x Vivienda :  2\n",
            "3 x Vivienda :  1\n",
            ", Barcelona :  1\n",
            "13 x Vivienda :  1\n",
            "23 x Vivienda :  1\n",
            "Toledo, Toledo :  2\n",
            "Puertollano, Ciudad Real :  1\n",
            "Jerez de la Frontera, Cadiz :  1\n",
            ", Madrid :  1\n",
            "Formentera Del Segura, Alicante :  1\n",
            "1 x Aparcamiento, 1 x Vivienda :  3\n",
            "1 x Aparcamiento, 1 x Hotelero :  1\n",
            "a, A Coruna :  1\n",
            "8 x Vivienda :  1\n",
            "6 x Aparcamiento, 3 x Otros :  1\n",
            "1 x Almacen, 1 x Vivienda :  1\n",
            "2 x Aparcamiento, 1 x Vivienda :  1\n"
          ]
        }
      ]
    },
    {
      "cell_type": "code",
      "source": [
        "#get unique text from the property type column\n",
        "import re\n",
        "df_pt = df_['prop_type']\n",
        "pt_str = ''\n",
        "for prop_type in df_pt:\n",
        "  pt_str = pt_str + prop_type + \" \"\n",
        "pt_str\n",
        "\n",
        "iter_ = re.finditer(r'([A-Za-z]{3,})', pt_str)\n",
        "distinct_type = []\n",
        "for type_ in iter_:\n",
        "  if type_[0] not in distinct_type:\n",
        "    distinct_type.append(type_[0])\n",
        "\n",
        "distinct_type\n",
        "#flawed -- ended up retrieving city names as well based of inconsistency in scraped text"
      ],
      "metadata": {
        "colab": {
          "base_uri": "https://localhost:8080/"
        },
        "id": "RikgQmpzOXJh",
        "outputId": "88e2ceea-06d0-4505-fcfa-644e9dc8c3c2"
      },
      "execution_count": null,
      "outputs": [
        {
          "output_type": "execute_result",
          "data": {
            "text/plain": [
              "['Vivienda',\n",
              " 'Aparcamiento',\n",
              " 'Valdemoro',\n",
              " 'Lugo',\n",
              " 'Otros',\n",
              " 'Comercio',\n",
              " 'Oficina',\n",
              " 'Almacen',\n",
              " 'Agrario',\n",
              " 'Madrid',\n",
              " 'FUENLABRADA',\n",
              " 'Alicante',\n",
              " 'Suelo',\n",
              " 'Auction',\n",
              " 'Hotelero',\n",
              " 'Industrial',\n",
              " 'Barcelona',\n",
              " 'Toledo',\n",
              " 'Puertollano',\n",
              " 'Ciudad',\n",
              " 'Real',\n",
              " 'Jerez',\n",
              " 'Frontera',\n",
              " 'Cadiz',\n",
              " 'Formentera',\n",
              " 'Del',\n",
              " 'Segura',\n",
              " 'Coruna']"
            ]
          },
          "metadata": {},
          "execution_count": 151
        }
      ]
    },
    {
      "cell_type": "code",
      "source": [
        "#alternative approach\n",
        "#get unique propety type and no of units from each data entry\n",
        "df_pt = df_['prop_type']\n",
        "n_units = []\n",
        "prop_type = []\n",
        "for text in df_pt:\n",
        "  pt1 = []\n",
        "  if ',' in text:\n",
        "    pt1 = text.split(',')\n",
        "  else:\n",
        "    pt1.append(text) \n",
        "  for text in pt1:\n",
        "    if 'x' in text:\n",
        "      pt2 = text.split('x')\n",
        "      n_units.append(pt2[0])\n",
        "      prop_type.append(pt2[-1])\n",
        "\n",
        "prop_types = pd.DataFrame([prop_type, n_units]).T\n",
        "prop_types.columns = ['n_units', 'prop_type']\n",
        "    \n",
        "prop_types\n"
      ],
      "metadata": {
        "colab": {
          "base_uri": "https://localhost:8080/",
          "height": 220
        },
        "id": "93iSaIioPhZs",
        "outputId": "348411aa-27c9-4068-80d2-3d4cc0048b05"
      },
      "execution_count": null,
      "outputs": [
        {
          "output_type": "execute_result",
          "data": {
            "text/plain": [
              "       n_units prop_type\n",
              "0     Vivienda        1 \n",
              "1     Vivienda        1 \n",
              "2     Vivienda        1 \n",
              "3     Vivienda        1 \n",
              "4     Vivienda        1 \n",
              "..         ...       ...\n",
              "699      Otros        1 \n",
              "700   Vivienda        1 \n",
              "701   Vivienda        1 \n",
              "702   Vivienda        1 \n",
              "703   Vivienda        1 \n",
              "\n",
              "[704 rows x 2 columns]"
            ],
            "text/html": [
              "\n",
              "  <div id=\"df-223c863f-2fae-4ab5-9817-0bbd078cdb91\">\n",
              "    <div class=\"colab-df-container\">\n",
              "      <div>\n",
              "<style scoped>\n",
              "    .dataframe tbody tr th:only-of-type {\n",
              "        vertical-align: middle;\n",
              "    }\n",
              "\n",
              "    .dataframe tbody tr th {\n",
              "        vertical-align: top;\n",
              "    }\n",
              "\n",
              "    .dataframe thead th {\n",
              "        text-align: right;\n",
              "    }\n",
              "</style>\n",
              "<table border=\"1\" class=\"dataframe\">\n",
              "  <thead>\n",
              "    <tr style=\"text-align: right;\">\n",
              "      <th></th>\n",
              "      <th>n_units</th>\n",
              "      <th>prop_type</th>\n",
              "    </tr>\n",
              "  </thead>\n",
              "  <tbody>\n",
              "    <tr>\n",
              "      <th>0</th>\n",
              "      <td>Vivienda</td>\n",
              "      <td>1</td>\n",
              "    </tr>\n",
              "    <tr>\n",
              "      <th>1</th>\n",
              "      <td>Vivienda</td>\n",
              "      <td>1</td>\n",
              "    </tr>\n",
              "    <tr>\n",
              "      <th>2</th>\n",
              "      <td>Vivienda</td>\n",
              "      <td>1</td>\n",
              "    </tr>\n",
              "    <tr>\n",
              "      <th>3</th>\n",
              "      <td>Vivienda</td>\n",
              "      <td>1</td>\n",
              "    </tr>\n",
              "    <tr>\n",
              "      <th>4</th>\n",
              "      <td>Vivienda</td>\n",
              "      <td>1</td>\n",
              "    </tr>\n",
              "    <tr>\n",
              "      <th>...</th>\n",
              "      <td>...</td>\n",
              "      <td>...</td>\n",
              "    </tr>\n",
              "    <tr>\n",
              "      <th>699</th>\n",
              "      <td>Otros</td>\n",
              "      <td>1</td>\n",
              "    </tr>\n",
              "    <tr>\n",
              "      <th>700</th>\n",
              "      <td>Vivienda</td>\n",
              "      <td>1</td>\n",
              "    </tr>\n",
              "    <tr>\n",
              "      <th>701</th>\n",
              "      <td>Vivienda</td>\n",
              "      <td>1</td>\n",
              "    </tr>\n",
              "    <tr>\n",
              "      <th>702</th>\n",
              "      <td>Vivienda</td>\n",
              "      <td>1</td>\n",
              "    </tr>\n",
              "    <tr>\n",
              "      <th>703</th>\n",
              "      <td>Vivienda</td>\n",
              "      <td>1</td>\n",
              "    </tr>\n",
              "  </tbody>\n",
              "</table>\n",
              "<p>704 rows × 2 columns</p>\n",
              "</div>\n",
              "      <button class=\"colab-df-convert\" onclick=\"convertToInteractive('df-223c863f-2fae-4ab5-9817-0bbd078cdb91')\"\n",
              "              title=\"Convert this dataframe to an interactive table.\"\n",
              "              style=\"display:none;\">\n",
              "        \n",
              "  <svg xmlns=\"http://www.w3.org/2000/svg\" height=\"24px\"viewBox=\"0 0 24 24\"\n",
              "       width=\"24px\">\n",
              "    <path d=\"M0 0h24v24H0V0z\" fill=\"none\"/>\n",
              "    <path d=\"M18.56 5.44l.94 2.06.94-2.06 2.06-.94-2.06-.94-.94-2.06-.94 2.06-2.06.94zm-11 1L8.5 8.5l.94-2.06 2.06-.94-2.06-.94L8.5 2.5l-.94 2.06-2.06.94zm10 10l.94 2.06.94-2.06 2.06-.94-2.06-.94-.94-2.06-.94 2.06-2.06.94z\"/><path d=\"M17.41 7.96l-1.37-1.37c-.4-.4-.92-.59-1.43-.59-.52 0-1.04.2-1.43.59L10.3 9.45l-7.72 7.72c-.78.78-.78 2.05 0 2.83L4 21.41c.39.39.9.59 1.41.59.51 0 1.02-.2 1.41-.59l7.78-7.78 2.81-2.81c.8-.78.8-2.07 0-2.86zM5.41 20L4 18.59l7.72-7.72 1.47 1.35L5.41 20z\"/>\n",
              "  </svg>\n",
              "      </button>\n",
              "      \n",
              "  <style>\n",
              "    .colab-df-container {\n",
              "      display:flex;\n",
              "      flex-wrap:wrap;\n",
              "      gap: 12px;\n",
              "    }\n",
              "\n",
              "    .colab-df-convert {\n",
              "      background-color: #E8F0FE;\n",
              "      border: none;\n",
              "      border-radius: 50%;\n",
              "      cursor: pointer;\n",
              "      display: none;\n",
              "      fill: #1967D2;\n",
              "      height: 32px;\n",
              "      padding: 0 0 0 0;\n",
              "      width: 32px;\n",
              "    }\n",
              "\n",
              "    .colab-df-convert:hover {\n",
              "      background-color: #E2EBFA;\n",
              "      box-shadow: 0px 1px 2px rgba(60, 64, 67, 0.3), 0px 1px 3px 1px rgba(60, 64, 67, 0.15);\n",
              "      fill: #174EA6;\n",
              "    }\n",
              "\n",
              "    [theme=dark] .colab-df-convert {\n",
              "      background-color: #3B4455;\n",
              "      fill: #D2E3FC;\n",
              "    }\n",
              "\n",
              "    [theme=dark] .colab-df-convert:hover {\n",
              "      background-color: #434B5C;\n",
              "      box-shadow: 0px 1px 3px 1px rgba(0, 0, 0, 0.15);\n",
              "      filter: drop-shadow(0px 1px 2px rgba(0, 0, 0, 0.3));\n",
              "      fill: #FFFFFF;\n",
              "    }\n",
              "  </style>\n",
              "\n",
              "      <script>\n",
              "        const buttonEl =\n",
              "          document.querySelector('#df-223c863f-2fae-4ab5-9817-0bbd078cdb91 button.colab-df-convert');\n",
              "        buttonEl.style.display =\n",
              "          google.colab.kernel.accessAllowed ? 'block' : 'none';\n",
              "\n",
              "        async function convertToInteractive(key) {\n",
              "          const element = document.querySelector('#df-223c863f-2fae-4ab5-9817-0bbd078cdb91');\n",
              "          const dataTable =\n",
              "            await google.colab.kernel.invokeFunction('convertToInteractive',\n",
              "                                                     [key], {});\n",
              "          if (!dataTable) return;\n",
              "\n",
              "          const docLinkHtml = 'Like what you see? Visit the ' +\n",
              "            '<a target=\"_blank\" href=https://colab.research.google.com/notebooks/data_table.ipynb>data table notebook</a>'\n",
              "            + ' to learn more about interactive tables.';\n",
              "          element.innerHTML = '';\n",
              "          dataTable['output_type'] = 'display_data';\n",
              "          await google.colab.output.renderOutput(dataTable, element);\n",
              "          const docLink = document.createElement('div');\n",
              "          docLink.innerHTML = docLinkHtml;\n",
              "          element.appendChild(docLink);\n",
              "        }\n",
              "      </script>\n",
              "    </div>\n",
              "  </div>\n",
              "  "
            ]
          },
          "metadata": {},
          "execution_count": 131
        }
      ]
    },
    {
      "cell_type": "code",
      "source": [
        "#get counts of unique property types\n",
        "counts = {}\n",
        "unique_types = []\n",
        "for i in range(len(prop_type)):\n",
        "  if prop_type[i] not in unique_types:\n",
        "    unique_types.append(prop_type[i])\n",
        "    counts[prop_type[i]] = 1\n",
        "  else:\n",
        "    counts[prop_type[i]] += int(n_units[i])\n",
        "\n",
        "counts"
      ],
      "metadata": {
        "colab": {
          "base_uri": "https://localhost:8080/"
        },
        "id": "jhkcfr-XRG3R",
        "outputId": "c3d8a6d0-b8a4-4210-e9f4-5e7054dec1c0"
      },
      "execution_count": null,
      "outputs": [
        {
          "output_type": "execute_result",
          "data": {
            "text/plain": [
              "{' Vivienda': 609,\n",
              " ' Aparcamiento': 92,\n",
              " ' Otros': 23,\n",
              " ' Comercio': 21,\n",
              " ' Oficina': 8,\n",
              " ' Almacen': 29,\n",
              " ' Agrario': 7,\n",
              " ' Suelo': 22,\n",
              " ' Hotelero': 2,\n",
              " ' Industrial': 1}"
            ]
          },
          "metadata": {},
          "execution_count": 132
        }
      ]
    },
    {
      "cell_type": "code",
      "source": [],
      "metadata": {
        "id": "ko3oloIHZ8F-"
      },
      "execution_count": null,
      "outputs": []
    }
  ]
}